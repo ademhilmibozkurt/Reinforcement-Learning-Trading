{
 "cells": [
  {
   "cell_type": "markdown",
   "id": "80ffa7da-2db1-49a1-a86c-937642e1b39e",
   "metadata": {},
   "source": [
    "## Import Dependencies"
   ]
  },
  {
   "cell_type": "code",
   "execution_count": 5,
   "id": "8389a02e-4628-4dbd-996a-7b4416f7b21e",
   "metadata": {
    "collapsed": true,
    "jupyter": {
     "outputs_hidden": true
    },
    "tags": []
   },
   "outputs": [
    {
     "ename": "ModuleNotFoundError",
     "evalue": "No module named 'tensorflow'",
     "output_type": "error",
     "traceback": [
      "\u001b[1;31m---------------------------------------------------------------------------\u001b[0m",
      "\u001b[1;31mModuleNotFoundError\u001b[0m                       Traceback (most recent call last)",
      "\u001b[1;32m<ipython-input-5-530e029d819b>\u001b[0m in \u001b[0;36m<module>\u001b[1;34m\u001b[0m\n\u001b[0;32m      4\u001b[0m \u001b[1;33m\u001b[0m\u001b[0m\n\u001b[0;32m      5\u001b[0m \u001b[1;31m# stable baselines\u001b[0m\u001b[1;33m\u001b[0m\u001b[1;33m\u001b[0m\u001b[1;33m\u001b[0m\u001b[0m\n\u001b[1;32m----> 6\u001b[1;33m \u001b[1;32mfrom\u001b[0m \u001b[0mstable_baselines\u001b[0m \u001b[1;32mimport\u001b[0m \u001b[0mA2C\u001b[0m \u001b[1;31m# algorithm\u001b[0m\u001b[1;33m\u001b[0m\u001b[1;33m\u001b[0m\u001b[0m\n\u001b[0m\u001b[0;32m      7\u001b[0m \u001b[1;32mfrom\u001b[0m \u001b[0mstable_baselines\u001b[0m\u001b[1;33m.\u001b[0m\u001b[0mcommon\u001b[0m\u001b[1;33m.\u001b[0m\u001b[0mvec_env\u001b[0m \u001b[1;32mimport\u001b[0m \u001b[0mDummyVecEnv\u001b[0m\u001b[1;33m\u001b[0m\u001b[1;33m\u001b[0m\u001b[0m\n\u001b[0;32m      8\u001b[0m \u001b[1;33m\u001b[0m\u001b[0m\n",
      "\u001b[1;32m~\\anaconda3\\lib\\site-packages\\stable_baselines\\__init__.py\u001b[0m in \u001b[0;36m<module>\u001b[1;34m\u001b[0m\n\u001b[0;32m      2\u001b[0m \u001b[1;32mimport\u001b[0m \u001b[0mwarnings\u001b[0m\u001b[1;33m\u001b[0m\u001b[1;33m\u001b[0m\u001b[0m\n\u001b[0;32m      3\u001b[0m \u001b[1;33m\u001b[0m\u001b[0m\n\u001b[1;32m----> 4\u001b[1;33m \u001b[1;32mfrom\u001b[0m \u001b[0mstable_baselines\u001b[0m\u001b[1;33m.\u001b[0m\u001b[0ma2c\u001b[0m \u001b[1;32mimport\u001b[0m \u001b[0mA2C\u001b[0m\u001b[1;33m\u001b[0m\u001b[1;33m\u001b[0m\u001b[0m\n\u001b[0m\u001b[0;32m      5\u001b[0m \u001b[1;32mfrom\u001b[0m \u001b[0mstable_baselines\u001b[0m\u001b[1;33m.\u001b[0m\u001b[0macer\u001b[0m \u001b[1;32mimport\u001b[0m \u001b[0mACER\u001b[0m\u001b[1;33m\u001b[0m\u001b[1;33m\u001b[0m\u001b[0m\n\u001b[0;32m      6\u001b[0m \u001b[1;32mfrom\u001b[0m \u001b[0mstable_baselines\u001b[0m\u001b[1;33m.\u001b[0m\u001b[0macktr\u001b[0m \u001b[1;32mimport\u001b[0m \u001b[0mACKTR\u001b[0m\u001b[1;33m\u001b[0m\u001b[1;33m\u001b[0m\u001b[0m\n",
      "\u001b[1;32m~\\anaconda3\\lib\\site-packages\\stable_baselines\\a2c\\__init__.py\u001b[0m in \u001b[0;36m<module>\u001b[1;34m\u001b[0m\n\u001b[1;32m----> 1\u001b[1;33m \u001b[1;32mfrom\u001b[0m \u001b[0mstable_baselines\u001b[0m\u001b[1;33m.\u001b[0m\u001b[0ma2c\u001b[0m\u001b[1;33m.\u001b[0m\u001b[0ma2c\u001b[0m \u001b[1;32mimport\u001b[0m \u001b[0mA2C\u001b[0m\u001b[1;33m\u001b[0m\u001b[1;33m\u001b[0m\u001b[0m\n\u001b[0m",
      "\u001b[1;32m~\\anaconda3\\lib\\site-packages\\stable_baselines\\a2c\\a2c.py\u001b[0m in \u001b[0;36m<module>\u001b[1;34m\u001b[0m\n\u001b[0;32m      3\u001b[0m \u001b[1;32mimport\u001b[0m \u001b[0mgym\u001b[0m\u001b[1;33m\u001b[0m\u001b[1;33m\u001b[0m\u001b[0m\n\u001b[0;32m      4\u001b[0m \u001b[1;32mimport\u001b[0m \u001b[0mnumpy\u001b[0m \u001b[1;32mas\u001b[0m \u001b[0mnp\u001b[0m\u001b[1;33m\u001b[0m\u001b[1;33m\u001b[0m\u001b[0m\n\u001b[1;32m----> 5\u001b[1;33m \u001b[1;32mimport\u001b[0m \u001b[0mtensorflow\u001b[0m \u001b[1;32mas\u001b[0m \u001b[0mtf\u001b[0m\u001b[1;33m\u001b[0m\u001b[1;33m\u001b[0m\u001b[0m\n\u001b[0m\u001b[0;32m      6\u001b[0m \u001b[1;33m\u001b[0m\u001b[0m\n\u001b[0;32m      7\u001b[0m \u001b[1;32mfrom\u001b[0m \u001b[0mstable_baselines\u001b[0m \u001b[1;32mimport\u001b[0m \u001b[0mlogger\u001b[0m\u001b[1;33m\u001b[0m\u001b[1;33m\u001b[0m\u001b[0m\n",
      "\u001b[1;31mModuleNotFoundError\u001b[0m: No module named 'tensorflow'"
     ]
    }
   ],
   "source": [
    "# gym stuff\n",
    "import gym\n",
    "import gym_anytrading\n",
    "\n",
    "# stable baselines\n",
    "from stable_baselines import A2C # algorithm\n",
    "from stable_baselines.common.vec_env import DummyVecEnv\n",
    "\n",
    "# processing libraries\n",
    "import numpy as np\n",
    "import pandas as pd\n",
    "from matplotlib import pyplot as plt"
   ]
  },
  {
   "cell_type": "markdown",
   "id": "a0ca1ce4-c9cf-44af-b79a-8a60a4d39a93",
   "metadata": {},
   "source": [
    "Gym is a standard API for reinforcement learning, and a diverse collection of reference environments.\n",
    "\n",
    "- The Gym interface is simple, pythonic, and capable of representing general RL problems.\n",
    "- The open AI Gym Anytrading environment is a custom trading environment that you can use to trade a bunch of stocks, forex, cryptocurrencies, equities, and securities."
   ]
  },
  {
   "cell_type": "markdown",
   "id": "4bb96cdb-03dc-4387-899f-cb35d83137bd",
   "metadata": {},
   "source": [
    "## Read Data"
   ]
  },
  {
   "cell_type": "code",
   "execution_count": null,
   "id": "d6e77d9c-b0bb-4822-a7f7-c8133d661af3",
   "metadata": {
    "tags": []
   },
   "outputs": [],
   "source": [
    "df = pd.read_csv(\"source/gme.csv\")"
   ]
  },
  {
   "cell_type": "code",
   "execution_count": null,
   "id": "a223aacc-6a0e-4ee7-8d8f-49760a8d5231",
   "metadata": {},
   "outputs": [],
   "source": [
    "df.head()"
   ]
  },
  {
   "cell_type": "code",
   "execution_count": null,
   "id": "605b85dd-b99c-4c61-851e-c42c0ef3d101",
   "metadata": {},
   "outputs": [],
   "source": [
    "df[\"Date\"] = pd.to_datetime(df[\"Date\"])\n",
    "df.dytypes"
   ]
  },
  {
   "cell_type": "code",
   "execution_count": null,
   "id": "b4d4e037-7a70-40fe-988c-f65587dab3bd",
   "metadata": {},
   "outputs": [],
   "source": [
    "df.set_index(\"Date\", inplace=True)\n",
    "df.head()"
   ]
  },
  {
   "cell_type": "code",
   "execution_count": null,
   "id": "6fc6d694-76b4-4a02-bf1b-7fe2d8932d4e",
   "metadata": {},
   "outputs": [],
   "source": [
    "env = gym.make(\"stocks-v0\", df=df, frame_bound=(10,100), window_size=5)"
   ]
  },
  {
   "cell_type": "code",
   "execution_count": null,
   "id": "17f86661-0c45-4733-836b-1f6af6367f37",
   "metadata": {},
   "outputs": [],
   "source": [
    "env.signal_features[5]"
   ]
  },
  {
   "cell_type": "markdown",
   "id": "ecad4224-3c8a-4e5c-8a58-387ba7059401",
   "metadata": {},
   "source": [
    "## Build Environment"
   ]
  },
  {
   "cell_type": "code",
   "execution_count": null,
   "id": "3708367e-8508-46ec-bd63-00eb4c569f12",
   "metadata": {},
   "outputs": [],
   "source": [
    "env.action_space"
   ]
  },
  {
   "cell_type": "code",
   "execution_count": null,
   "id": "53cc3ffd-bf87-442b-be8d-c42f5a3111d5",
   "metadata": {},
   "outputs": [],
   "source": [
    "state = env.reset()\n",
    "\n",
    "while True:\n",
    "    action = env.action_space.sample()\n",
    "    n_state, reward, done, info = env.step(action)\n",
    "    \n",
    "    if done:\n",
    "        print(\"info\", info)\n",
    "        break\n",
    "        \n",
    "plt.figure(figsize=(15,6))\n",
    "plt.cla()\n",
    "env.render_all()\n",
    "plt.show()"
   ]
  },
  {
   "cell_type": "markdown",
   "id": "98062ebc-e367-4924-9730-585983f76333",
   "metadata": {},
   "source": [
    "- action_space: Set of valid actions at this state\n",
    "- step: Takes specified action and returns updated information gathered from environment such observation, reward, whether goal is reached or not and misc info useful for debugging.\n",
    "\n",
    "\n",
    "- observation is specific to the environment; for example, in Mountain-Car it will return speed, velocity which is required for building the momentum in order to achieve the goal. In some cases, it will be raw pixel data.\n",
    "- reward is amount achieved by last action. By default, goal is to maximize the reward (of course!)\n",
    "- done this is really useful. This tells use when we are done and agent have achieved the goal.\n",
    "- info this emits debug information useful when something goes wrong and you have to figure out what exactly agent is doing."
   ]
  },
  {
   "cell_type": "markdown",
   "id": "279bf4ae-e599-45f0-886b-21613db80952",
   "metadata": {},
   "source": [
    "## Train"
   ]
  },
  {
   "cell_type": "code",
   "execution_count": null,
   "id": "4ab77c6a-8254-40f4-9ce8-ebd344c32fcc",
   "metadata": {},
   "outputs": [],
   "source": [
    "env_maker = lambda: gym.make(\"stocks-v0\", df=df, frame_bound=(5,100), window_size=5)\n",
    "env = DummyVecEnv([env_maker])"
   ]
  },
  {
   "cell_type": "code",
   "execution_count": null,
   "id": "815bb16f-d114-445c-88a4-3c4270b3c619",
   "metadata": {},
   "outputs": [],
   "source": [
    "model0 = A2C(\"MlpLstmPolicy\", env, verbose=1)\n",
    "model0.learn(total_timesteps=1000000)"
   ]
  },
  {
   "cell_type": "code",
   "execution_count": null,
   "id": "02713a90-7b0b-4052-81a7-60d1fd443ea1",
   "metadata": {},
   "outputs": [],
   "source": [
    "model1 = ACER(\"MlpLstmPolicy\", env, verbose=1)\n",
    "model1.learn(total_timesteps=1000000)"
   ]
  },
  {
   "cell_type": "markdown",
   "id": "fb62974e-fa88-4911-b2e7-8aab731aaccb",
   "metadata": {},
   "source": [
    "## Evaluation"
   ]
  },
  {
   "cell_type": "markdown",
   "id": "772caa6f-2046-4c50-ba8c-981825c47a3c",
   "metadata": {},
   "source": [
    "### A2C Algorithm"
   ]
  },
  {
   "cell_type": "code",
   "execution_count": null,
   "id": "cfe2e4a6-9a42-4ce3-8bdf-732c47968632",
   "metadata": {},
   "outputs": [],
   "source": [
    "env = gym.make(\"stocks-v0\", df=df, frame_bound=(90,110), window_size=5)\n",
    "obs = env.reset(0)\n",
    "\n",
    "while True:\n",
    "    obs = obs[np.newaxis, ...]\n",
    "    action, _states = model0.predict(obs)\n",
    "    obs, rewards, done, info = env.step(action)\n",
    "    \n",
    "    if done:\n",
    "        print(\"info\", info)\n",
    "        break"
   ]
  },
  {
   "cell_type": "code",
   "execution_count": null,
   "id": "64d366ab-1d79-4b9c-98ad-17dffce562bf",
   "metadata": {},
   "outputs": [],
   "source": [
    "plt.figure(figsize=(15,6))\n",
    "plt.cla()\n",
    "env.render_all()\n",
    "plt.show()"
   ]
  },
  {
   "cell_type": "markdown",
   "id": "3378e559-2739-4706-a981-a508c6168a17",
   "metadata": {},
   "source": [
    "### ACER Algorithm"
   ]
  },
  {
   "cell_type": "code",
   "execution_count": null,
   "id": "a25b95bb-e413-43f5-a9aa-ea20ff3f9efb",
   "metadata": {},
   "outputs": [],
   "source": [
    "env = gym.make(\"stocks-v0\", df=df, frame_bound=(90,110), window_size=5)\n",
    "obs = env.reset(0)\n",
    "\n",
    "while True:\n",
    "    obs = obs[np.newaxis, ...]\n",
    "    action, _states = model1.predict(obs)\n",
    "    obs, rewards, done, info = env.step(action)\n",
    "    \n",
    "    if done:\n",
    "        print(\"info\", info)\n",
    "        break"
   ]
  },
  {
   "cell_type": "code",
   "execution_count": null,
   "id": "78ca6f42-09f0-455b-b3b1-35766dd7e659",
   "metadata": {},
   "outputs": [],
   "source": [
    "plt.figure(figsize=(15,6))\n",
    "plt.cla()\n",
    "env.render_all()\n",
    "plt.show()"
   ]
  }
 ],
 "metadata": {
  "kernelspec": {
   "display_name": "Python 3",
   "language": "python",
   "name": "python3"
  },
  "language_info": {
   "codemirror_mode": {
    "name": "ipython",
    "version": 3
   },
   "file_extension": ".py",
   "mimetype": "text/x-python",
   "name": "python",
   "nbconvert_exporter": "python",
   "pygments_lexer": "ipython3",
   "version": "3.8.8"
  }
 },
 "nbformat": 4,
 "nbformat_minor": 5
}
